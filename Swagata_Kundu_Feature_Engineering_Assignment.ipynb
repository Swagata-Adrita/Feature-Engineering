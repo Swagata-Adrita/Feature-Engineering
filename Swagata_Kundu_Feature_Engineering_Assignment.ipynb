{
 "cells": [
  {
   "cell_type": "markdown",
   "id": "1bf08b70",
   "metadata": {},
   "source": [
    "# Assignment of Feature Engineering by Swagata Kundu\n"
   ]
  },
  {
   "cell_type": "markdown",
   "id": "1e545ea8",
   "metadata": {},
   "source": [
    "### 1. What is a parameter?"
   ]
  },
  {
   "cell_type": "markdown",
   "id": "bdfb9a1d",
   "metadata": {},
   "source": [
    "A parameter is a measurable factor that defines a system or sets the conditions of its operation. In statistics and ML, it's a value that characterizes a population or a model (e.g., coefficients in linear regression)."
   ]
  },
  {
   "cell_type": "markdown",
   "id": "a4d4913b",
   "metadata": {},
   "source": [
    "### 2. What is correlation? What does negative correlation mean?"
   ]
  },
  {
   "cell_type": "markdown",
   "id": "bbb4f654",
   "metadata": {},
   "source": [
    "Correlation is a statistical measure that expresses the extent to which two variables are linearly related.\n",
    "\n",
    "Negative correlation means that as one variable increases, the other decreases."
   ]
  },
  {
   "cell_type": "markdown",
   "id": "9bc0fd4a",
   "metadata": {},
   "source": [
    "### 3. Define Machine Learning. What are the main components in Machine Learning?"
   ]
  },
  {
   "cell_type": "markdown",
   "id": "e379d800",
   "metadata": {},
   "source": [
    "Machine Learning is a field of AI that enables systems to learn from data and improve performance without being explicitly programmed.\n",
    "\n",
    "**Main components:**\n",
    "- Data\n",
    "- Model\n",
    "- Loss function\n",
    "- Optimizer\n",
    "- Evaluation metrics"
   ]
  },
  {
   "cell_type": "markdown",
   "id": "9e952f90",
   "metadata": {},
   "source": [
    "### 4. How does loss value help in determining whether the model is good or not?"
   ]
  },
  {
   "cell_type": "markdown",
   "id": "0c14a5ec",
   "metadata": {},
   "source": [
    "Loss value quantifies the difference between predicted and actual values. Lower loss indicates better performance. It helps in adjusting model parameters during training."
   ]
  },
  {
   "cell_type": "markdown",
   "id": "aebd27a0",
   "metadata": {},
   "source": [
    "### 5. What are continuous and categorical variables?"
   ]
  },
  {
   "cell_type": "markdown",
   "id": "d842bcee",
   "metadata": {},
   "source": [
    "**Continuous variables** can take an infinite number of values (e.g., height, weight).\n",
    "**Categorical variables** represent discrete groups or categories (e.g., gender, color)."
   ]
  },
  {
   "cell_type": "markdown",
   "id": "0e9d8992",
   "metadata": {},
   "source": [
    "### 6. How do we handle categorical variables in Machine Learning? What are the common techniques?"
   ]
  },
  {
   "cell_type": "markdown",
   "id": "6d7a4a15",
   "metadata": {},
   "source": [
    "Categorical variables can be handled using:\n",
    "- Label Encoding\n",
    "- One-Hot Encoding\n",
    "- Ordinal Encoding\n",
    "\n",
    "Libraries like `sklearn.preprocessing` provide utilities for these."
   ]
  },
  {
   "cell_type": "markdown",
   "id": "58062992",
   "metadata": {},
   "source": [
    "### 7. What do you mean by training and testing a dataset?"
   ]
  },
  {
   "cell_type": "markdown",
   "id": "d3e3f300",
   "metadata": {},
   "source": [
    "Training a dataset means using it to fit a model. Testing evaluates model performance on unseen data to assess generalization."
   ]
  },
  {
   "cell_type": "markdown",
   "id": "ac9e6631",
   "metadata": {},
   "source": [
    "### 8. What is sklearn.preprocessing?"
   ]
  },
  {
   "cell_type": "markdown",
   "id": "147efd84",
   "metadata": {},
   "source": [
    "`sklearn.preprocessing` is a module in Scikit-learn used for data preprocessing like scaling, encoding, normalization, etc."
   ]
  },
  {
   "cell_type": "markdown",
   "id": "8dbe2330",
   "metadata": {},
   "source": [
    "### 9. What is a Test set?"
   ]
  },
  {
   "cell_type": "markdown",
   "id": "e8ba0006",
   "metadata": {},
   "source": [
    "A test set is a portion of the dataset reserved to evaluate the trained model's performance on unseen data."
   ]
  },
  {
   "cell_type": "markdown",
   "id": "a35bb707",
   "metadata": {},
   "source": [
    "### 10. How do we split data for model fitting (training and testing) in Python? How do you approach a Machine Learning problem?"
   ]
  },
  {
   "cell_type": "markdown",
   "id": "197fae00",
   "metadata": {},
   "source": [
    "We typically use `train_test_split()` from `sklearn.model_selection` to split data.\n",
    "\n",
    "Approach:\n",
    "1. Understand the problem\n",
    "2. Clean and explore data (EDA)\n",
    "3. Preprocess data\n",
    "4. Train model\n",
    "5. Evaluate model\n",
    "6. Tune and deploy"
   ]
  },
  {
   "cell_type": "markdown",
   "id": "62c45346",
   "metadata": {},
   "source": [
    "### 11. Why do we have to perform EDA before fitting a model to the data?"
   ]
  },
  {
   "cell_type": "markdown",
   "id": "e855f8de",
   "metadata": {},
   "source": [
    "EDA (Exploratory Data Analysis) helps in understanding patterns, spotting anomalies, and preparing data for modeling."
   ]
  },
  {
   "cell_type": "markdown",
   "id": "a596404c",
   "metadata": {},
   "source": [
    "### 12. What is correlation?"
   ]
  },
  {
   "cell_type": "markdown",
   "id": "facbaea7",
   "metadata": {},
   "source": [
    "Correlation quantifies the strength and direction of a relationship between two variables."
   ]
  },
  {
   "cell_type": "markdown",
   "id": "3b41c3e3",
   "metadata": {},
   "source": [
    "### 13. What does negative correlation mean?"
   ]
  },
  {
   "cell_type": "markdown",
   "id": "7c1ccf28",
   "metadata": {},
   "source": [
    "Negative correlation means that as one variable increases, the other tends to decrease."
   ]
  },
  {
   "cell_type": "markdown",
   "id": "03b1a42f",
   "metadata": {},
   "source": [
    "### 14. How can you find correlation between variables in Python?"
   ]
  },
  {
   "cell_type": "markdown",
   "id": "1770d919",
   "metadata": {},
   "source": [
    "Use `df.corr()` to compute correlation matrix in pandas. You can visualize with `seaborn.heatmap()`."
   ]
  },
  {
   "cell_type": "markdown",
   "id": "ebe4e24c",
   "metadata": {},
   "source": [
    "### 15. What is causation? Explain difference between correlation and causation with an example."
   ]
  },
  {
   "cell_type": "markdown",
   "id": "659c636c",
   "metadata": {},
   "source": [
    "Causation indicates that one event is the result of the occurrence of another.\n",
    "\n",
    "**Example:**\n",
    "Correlation: Ice cream sales and drowning both rise in summer.\n",
    "Causation: Ice cream does not cause drowning; heat is the cause of both."
   ]
  },
  {
   "cell_type": "markdown",
   "id": "76594854",
   "metadata": {},
   "source": [
    "### 16. What is an Optimizer? What are different types of optimizers? Explain each with an example."
   ]
  },
  {
   "cell_type": "markdown",
   "id": "b79fc0c5",
   "metadata": {},
   "source": [
    "An optimizer adjusts model parameters to minimize loss.\n",
    "\n",
    "**Types:**\n",
    "- SGD (Stochastic Gradient Descent)\n",
    "- Adam (Adaptive Moment Estimation)\n",
    "- RMSprop\n",
    "\n",
    "Example: `optimizer = torch.optim.Adam(model.parameters(), lr=0.001)`"
   ]
  },
  {
   "cell_type": "markdown",
   "id": "c9b72efa",
   "metadata": {},
   "source": [
    "### 17. What is sklearn.linear_model ?"
   ]
  },
  {
   "cell_type": "markdown",
   "id": "7e198805",
   "metadata": {},
   "source": [
    "`sklearn.linear_model` contains linear models like LinearRegression, LogisticRegression, etc."
   ]
  },
  {
   "cell_type": "markdown",
   "id": "3ad050c1",
   "metadata": {},
   "source": [
    "### 18. What does model.fit() do? What arguments must be given?"
   ]
  },
  {
   "cell_type": "markdown",
   "id": "981ef800",
   "metadata": {},
   "source": [
    "`model.fit(X, y)` trains the model using features `X` and labels `y`."
   ]
  },
  {
   "cell_type": "markdown",
   "id": "5ae6989f",
   "metadata": {},
   "source": [
    "### 19. What does model.predict() do? What arguments must be given?"
   ]
  },
  {
   "cell_type": "markdown",
   "id": "9213d08e",
   "metadata": {},
   "source": [
    "`model.predict(X)` returns predictions for the input data `X`."
   ]
  },
  {
   "cell_type": "markdown",
   "id": "c8977ece",
   "metadata": {},
   "source": [
    "### 20. What are continuous and categorical variables?"
   ]
  },
  {
   "cell_type": "markdown",
   "id": "d60a4a01",
   "metadata": {},
   "source": [
    "**Continuous variables**: Numeric with infinite possible values (e.g., age).\n",
    "**Categorical variables**: Fixed categories or groups (e.g., gender)."
   ]
  },
  {
   "cell_type": "markdown",
   "id": "ee73f47d",
   "metadata": {},
   "source": [
    "### 21. What is feature scaling? How does it help in Machine Learning?"
   ]
  },
  {
   "cell_type": "markdown",
   "id": "b905de1d",
   "metadata": {},
   "source": [
    "Feature scaling standardizes the range of independent variables, helping algorithms converge faster and perform better."
   ]
  },
  {
   "cell_type": "markdown",
   "id": "fa6c488e",
   "metadata": {},
   "source": [
    "### 22. How do we perform scaling in Python?"
   ]
  },
  {
   "cell_type": "markdown",
   "id": "1153caf5",
   "metadata": {},
   "source": [
    "Use `StandardScaler` or `MinMaxScaler` from `sklearn.preprocessing` for scaling features."
   ]
  },
  {
   "cell_type": "markdown",
   "id": "2d288fdb",
   "metadata": {},
   "source": [
    "### 23. What is sklearn.preprocessing?"
   ]
  },
  {
   "cell_type": "markdown",
   "id": "cbd0a0ca",
   "metadata": {},
   "source": [
    "`sklearn.preprocessing` is used for preparing data by encoding, scaling, normalizing, and transforming."
   ]
  },
  {
   "cell_type": "markdown",
   "id": "03963db2",
   "metadata": {},
   "source": [
    "### 24. How do we split data for model fitting (training and testing) in Python?"
   ]
  },
  {
   "cell_type": "markdown",
   "id": "8954d162",
   "metadata": {},
   "source": [
    "Use `train_test_split(X, y, test_size=0.2)` from sklearn to split data into training and test sets."
   ]
  },
  {
   "cell_type": "markdown",
   "id": "0bd0d235",
   "metadata": {},
   "source": [
    "### 25. Explain data encoding?"
   ]
  },
  {
   "cell_type": "markdown",
   "id": "4c890c4b",
   "metadata": {},
   "source": [
    "Data encoding transforms categorical variables into a numerical format using techniques like Label Encoding and One-Hot Encoding."
   ]
  },
  {
   "cell_type": "code",
   "execution_count": null,
   "id": "a21b7b55",
   "metadata": {},
   "outputs": [],
   "source": []
  }
 ],
 "metadata": {
  "kernelspec": {
   "display_name": "Python 3 (ipykernel)",
   "language": "python",
   "name": "python3"
  },
  "language_info": {
   "codemirror_mode": {
    "name": "ipython",
    "version": 3
   },
   "file_extension": ".py",
   "mimetype": "text/x-python",
   "name": "python",
   "nbconvert_exporter": "python",
   "pygments_lexer": "ipython3",
   "version": "3.7.16"
  }
 },
 "nbformat": 4,
 "nbformat_minor": 5
}
